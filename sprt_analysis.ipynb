{
 "cells": [
  {
   "cell_type": "markdown",
   "id": "808db1fc",
   "metadata": {},
   "source": [
    "## SPRT Data Analysis\n"
   ]
  },
  {
   "cell_type": "markdown",
   "id": "b83f89d4",
   "metadata": {},
   "source": [
    "### 0. Setting Up\n"
   ]
  },
  {
   "cell_type": "markdown",
   "id": "a9552074",
   "metadata": {},
   "source": [
    "#### Loading Libraries\n"
   ]
  },
  {
   "cell_type": "markdown",
   "id": "531dc79e",
   "metadata": {},
   "source": [
    "The relevant packages are loaded into the script. These are:\n",
    "\n",
    "- **Tidyverse**, for piping functionality as well as all the other included packages such as `ggplot2`.\n",
    "- **lmerTest**, for linear mixed models and _p_-values.\n",
    "- **ggthemes**, for extended plot customization.\n",
    "- **gt**, for table creation.\n",
    "- **broom.mixed**, for processing mixed model output.\n"
   ]
  },
  {
   "cell_type": "code",
   "execution_count": 1,
   "id": "1745d8a0",
   "metadata": {
    "vscode": {
     "languageId": "r"
    }
   },
   "outputs": [
    {
     "name": "stderr",
     "output_type": "stream",
     "text": [
      "── \u001b[1mAttaching core tidyverse packages\u001b[22m ──────────────────────── tidyverse 2.0.0 ──\n",
      "\u001b[32m✔\u001b[39m \u001b[34mdplyr    \u001b[39m 1.1.4     \u001b[32m✔\u001b[39m \u001b[34mreadr    \u001b[39m 2.1.5\n",
      "\u001b[32m✔\u001b[39m \u001b[34mforcats  \u001b[39m 1.0.0     \u001b[32m✔\u001b[39m \u001b[34mstringr  \u001b[39m 1.5.1\n",
      "\u001b[32m✔\u001b[39m \u001b[34mggplot2  \u001b[39m 3.5.1     \u001b[32m✔\u001b[39m \u001b[34mtibble   \u001b[39m 3.2.1\n",
      "\u001b[32m✔\u001b[39m \u001b[34mlubridate\u001b[39m 1.9.3     \u001b[32m✔\u001b[39m \u001b[34mtidyr    \u001b[39m 1.3.1\n",
      "\u001b[32m✔\u001b[39m \u001b[34mpurrr    \u001b[39m 1.0.2     \n",
      "── \u001b[1mConflicts\u001b[22m ────────────────────────────────────────── tidyverse_conflicts() ──\n",
      "\u001b[31m✖\u001b[39m \u001b[34mdplyr\u001b[39m::\u001b[32mfilter()\u001b[39m masks \u001b[34mstats\u001b[39m::filter()\n",
      "\u001b[31m✖\u001b[39m \u001b[34mdplyr\u001b[39m::\u001b[32mlag()\u001b[39m    masks \u001b[34mstats\u001b[39m::lag()\n",
      "\u001b[36mℹ\u001b[39m Use the conflicted package (\u001b[3m\u001b[34m<http://conflicted.r-lib.org/>\u001b[39m\u001b[23m) to force all conflicts to become errors\n",
      "Loading required package: lme4\n",
      "\n",
      "Loading required package: Matrix\n",
      "\n",
      "\n",
      "Attaching package: ‘Matrix’\n",
      "\n",
      "\n",
      "The following objects are masked from ‘package:tidyr’:\n",
      "\n",
      "    expand, pack, unpack\n",
      "\n",
      "\n",
      "\n",
      "Attaching package: ‘lmerTest’\n",
      "\n",
      "\n",
      "The following object is masked from ‘package:lme4’:\n",
      "\n",
      "    lmer\n",
      "\n",
      "\n",
      "The following object is masked from ‘package:stats’:\n",
      "\n",
      "    step\n",
      "\n",
      "\n"
     ]
    }
   ],
   "source": [
    "library(tidyverse)\n",
    "library(lmerTest)\n",
    "library(ggthemes)\n",
    "library(gt)\n",
    "library(broom.mixed)\n",
    "library(ggdist)\n",
    "library(patchwork)\n"
   ]
  },
  {
   "cell_type": "markdown",
   "id": "954ee4fd",
   "metadata": {},
   "source": [
    "#### Color Variables\n"
   ]
  },
  {
   "cell_type": "code",
   "execution_count": 2,
   "id": "3dbb703e",
   "metadata": {
    "vscode": {
     "languageId": "r"
    }
   },
   "outputs": [],
   "source": [
    "accent_color <- \"#354c7c\"\n",
    "secondary_color <- \"#e3dddd\"\n",
    "\n",
    "plot_colors <- c(\n",
    "    \"SR\" = \"#845EC2\",\n",
    "    \"SS\" = \"#845EC2\",\n",
    "    \"OR\" = \"#D65DB1\",\n",
    "    \"PP\" = \"#D65DB1\",\n",
    "    \"SP\" = \"#FF6F91\",\n",
    "    \"PS\" = \"#FF9671\"\n",
    ")\n"
   ]
  },
  {
   "cell_type": "markdown",
   "id": "395d1cd8",
   "metadata": {},
   "source": [
    "#### Path Variables\n"
   ]
  },
  {
   "cell_type": "code",
   "execution_count": 3,
   "id": "8890cae6",
   "metadata": {
    "vscode": {
     "languageId": "r"
    }
   },
   "outputs": [],
   "source": [
    "tables_path <- \"./images/tables/\"\n",
    "plots_path <- \"./images/plots/\"\n"
   ]
  },
  {
   "cell_type": "markdown",
   "id": "5be9186e",
   "metadata": {},
   "source": [
    "#### Default Plot Theme\n"
   ]
  },
  {
   "cell_type": "code",
   "execution_count": 4,
   "id": "0a2e892b",
   "metadata": {
    "vscode": {
     "languageId": "r"
    }
   },
   "outputs": [],
   "source": [
    "custom_theme <-\n",
    "    theme(\n",
    "        plot.title = element_text(size = 12, face = \"bold\", margin = margin(b = 10)),\n",
    "        plot.subtitle = element_text(size = 11, face = \"bold\"),\n",
    "        plot.background = element_rect(linewidth = 0),\n",
    "        strip.background = element_rect(fill = accent_color, color = accent_color),\n",
    "        strip.text = element_text(color = \"white\", size = 12, face = \"bold\"),\n",
    "        axis.title.x = element_text(size = 10, face = \"bold\", margin = margin(t = 10)),\n",
    "        axis.title.y = element_text(size = 10, face = \"bold\", margin = margin(r = 10)),\n",
    "        axis.line = element_line(color = accent_color, linewidth = 1),\n",
    "        axis.ticks = element_blank(),\n",
    "        legend.title = element_text(face = \"bold\"),\n",
    "        panel.border = element_rect(color = secondary_color, linewidth = 0.5),\n",
    "        panel.background = element_blank(),\n",
    "        panel.grid.major.x = element_line(color = secondary_color, linewidth = 0.5),\n",
    "        panel.grid.major.y = element_line(color = secondary_color, linewidth = 0.5)\n",
    "    )\n",
    "theme_set(theme_calc() + custom_theme)\n"
   ]
  },
  {
   "cell_type": "markdown",
   "id": "57dcd6c0",
   "metadata": {},
   "source": [
    "### 1. Participant Data\n"
   ]
  },
  {
   "cell_type": "markdown",
   "id": "ca691fab",
   "metadata": {},
   "source": [
    "#### Importing Participant Data\n"
   ]
  },
  {
   "cell_type": "code",
   "execution_count": 5,
   "id": "19edf8c3",
   "metadata": {
    "vscode": {
     "languageId": "r"
    }
   },
   "outputs": [
    {
     "data": {
      "text/plain": [
       "    part_id      part_experiment      part_age          part_lang        \n",
       " Min.   :20.00   Length:12          Length:12          Length:12         \n",
       " 1st Qu.:25.00   Class :character   Class :character   Class :character  \n",
       " Median :30.00   Mode  :character   Mode  :character   Mode  :character  \n",
       " Mean   :28.92                                                           \n",
       " 3rd Qu.:33.25                                                           \n",
       " Max.   :37.00                                                           \n",
       " part_impaired      part_abroad        part_certificate   part_cat_exp      \n",
       " Length:12          Length:12          Length:12          Length:12         \n",
       " Class :character   Class :character   Class :character   Class :character  \n",
       " Mode  :character   Mode  :character   Mode  :character   Mode  :character  \n",
       "                                                                            \n",
       "                                                                            \n",
       "                                                                            \n",
       " part_cat_pro       part_eng_exp       part_eng_pro       part_spa_exp      \n",
       " Length:12          Length:12          Length:12          Length:12         \n",
       " Class :character   Class :character   Class :character   Class :character  \n",
       " Mode  :character   Mode  :character   Mode  :character   Mode  :character  \n",
       "                                                                            \n",
       "                                                                            \n",
       "                                                                            \n",
       " part_spa_pro       part_eng_onset_method part_eng_onset_time\n",
       " Length:12          Length:12             Min.   : 0.000     \n",
       " Class :character   Class :character      1st Qu.: 4.750     \n",
       " Mode  :character   Mode  :character      Median : 6.000     \n",
       "                                          Mean   : 6.667     \n",
       "                                          3rd Qu.: 8.250     \n",
       "                                          Max.   :17.000     \n",
       "    Status           part_date        \n",
       " Length:12          Length:12         \n",
       " Class :character   Class :character  \n",
       " Mode  :character   Mode  :character  \n",
       "                                      \n",
       "                                      \n",
       "                                      "
      ]
     },
     "metadata": {},
     "output_type": "display_data"
    }
   ],
   "source": [
    "df_part <- read.csv(\"./data/part_data.csv\")\n",
    "df_part$part_name <- NULL\n",
    "df_part$part_mail <- NULL\n",
    "summary(df_part)\n"
   ]
  },
  {
   "cell_type": "markdown",
   "id": "4bdafd21",
   "metadata": {},
   "source": [
    "#### Cleaning Participant Data\n"
   ]
  },
  {
   "cell_type": "code",
   "execution_count": 6,
   "id": "84fa850d",
   "metadata": {
    "vscode": {
     "languageId": "r"
    }
   },
   "outputs": [
    {
     "name": "stdout",
     "output_type": "stream",
     "text": [
      "Rows: 5\n",
      "Columns: 13\n",
      "$ part_id             \u001b[3m\u001b[90m<fct>\u001b[39m\u001b[23m 34, 37, 32, 31, 29\n",
      "$ part_age            \u001b[3m\u001b[90m<fct>\u001b[39m\u001b[23m 18 - 25, 26 - 30, 18 - 25, 18 - 25, 18 - 25\n",
      "$ part_lang           \u001b[3m\u001b[90m<fct>\u001b[39m\u001b[23m \"Catalan, Spanish\", \"Catalan, Spanish\", \"Catalan, …\n",
      "$ part_impaired       \u001b[3m\u001b[90m<fct>\u001b[39m\u001b[23m No, No, No, No, No\n",
      "$ part_abroad         \u001b[3m\u001b[90m<fct>\u001b[39m\u001b[23m No, No, No, No, No\n",
      "$ part_certificate    \u001b[3m\u001b[90m<fct>\u001b[39m\u001b[23m B2 (First), C1 (Advanced), C1 (Advanced), C1 (Adva…\n",
      "$ part_cat_exp        \u001b[3m\u001b[90m<fct>\u001b[39m\u001b[23m 1h - 3h, 1h - 3h, > 5h, 1h - 3h, < 1h\n",
      "$ part_cat_pro        \u001b[3m\u001b[90m<fct>\u001b[39m\u001b[23m 1h - 3h, 1h - 3h, > 5h, > 5h, < 1h\n",
      "$ part_spa_exp        \u001b[3m\u001b[90m<fct>\u001b[39m\u001b[23m 3h - 5h, > 5h, 3h - 5h, 3h - 5h, > 5h\n",
      "$ part_spa_pro        \u001b[3m\u001b[90m<fct>\u001b[39m\u001b[23m 3h - 5h, > 5h, 3h - 5h, 1h - 3h, > 5h\n",
      "$ part_eng_exp        \u001b[3m\u001b[90m<fct>\u001b[39m\u001b[23m 3h - 5h, > 5h, 1h - 3h, 1h - 3h, > 5h\n",
      "$ part_eng_pro        \u001b[3m\u001b[90m<fct>\u001b[39m\u001b[23m 3h - 5h, 1h - 3h, 1h - 3h, < 1h, 1h - 3h\n",
      "$ part_eng_onset_time \u001b[3m\u001b[90m<int>\u001b[39m\u001b[23m 6, 17, 6, 10, 6\n"
     ]
    }
   ],
   "source": [
    "df_part <- df_part %>%\n",
    "    select(part_experiment, part_id, part_age, part_lang, part_impaired, part_abroad, part_certificate, part_cat_exp, part_cat_pro, part_spa_exp, part_spa_pro, part_eng_exp, part_eng_pro, part_eng_onset_time) %>%\n",
    "    mutate(\n",
    "        across(\n",
    "            c(part_experiment, part_id, part_age, part_lang, part_impaired, part_abroad, part_certificate, part_cat_exp, part_cat_pro, part_spa_exp, part_spa_pro, part_eng_exp, part_eng_pro),\n",
    "            factor\n",
    "        )\n",
    "    ) %>%\n",
    "    filter(part_experiment == \"TFG\") %>%\n",
    "    rename(part_id = part_id) %>%\n",
    "    droplevels()\n",
    "\n",
    "df_part$part_experiment <- NULL\n",
    "\n",
    "glimpse(df_part)\n"
   ]
  },
  {
   "cell_type": "markdown",
   "id": "0a783867",
   "metadata": {},
   "source": [
    "### 2. Task Data\n"
   ]
  },
  {
   "cell_type": "markdown",
   "id": "9e0d59d7",
   "metadata": {},
   "source": [
    "#### Importing Task Data\n"
   ]
  },
  {
   "cell_type": "code",
   "execution_count": 7,
   "id": "1d93bef7",
   "metadata": {
    "vscode": {
     "languageId": "r"
    }
   },
   "outputs": [
    {
     "name": "stdout",
     "output_type": "stream",
     "text": [
      "'data.frame':\t309 obs. of  18 variables:\n",
      " $ rt            : int  2322825 1536 1222 1408 1249 1102 2405 1727 1111 968 ...\n",
      " $ response      : chr  \"{\\\"part_id\\\":\\\"32\\\"}\" \" \" \" \" \" \" ...\n",
      " $ trial_type    : chr  \"survey-html-form\" \"html-keyboard-response\" \"html-keyboard-response\" \"html-keyboard-response\" ...\n",
      " $ trial_index   : int  0 2 3 4 5 6 7 9 10 11 ...\n",
      " $ plugin_version: chr  \"2.0.0\" \"2.0.0\" \"2.0.0\" \"2.0.0\" ...\n",
      " $ time_elapsed  : int  2325458 2368979 2370201 2371610 2372859 2373964 2376370 2378602 2379714 2380683 ...\n",
      " $ part_id       : int  32 32 32 32 32 32 32 32 32 32 ...\n",
      " $ task          : chr  \"\" \"item\" \"item\" \"item\" ...\n",
      " $ item_number   : chr  \"\" \"null\" \"null\" \"null\" ...\n",
      " $ item_type     : chr  \"\" \"pr_item\" \"pr_item\" \"pr_item\" ...\n",
      " $ segment       : chr  \"\" \"s0\" \"s1\" \"s2\" ...\n",
      " $ clause_type   : chr  \"\" \"sr\" \"sr\" \"sr\" ...\n",
      " $ number        : chr  \"\" \"ss\" \"ss\" \"ss\" ...\n",
      " $ stimulus      : chr  \"\" \"<p class=\\\"trial-stimulus\\\">_______ | ____ | _______ | _______ | ____</p>\" \"<p class=\\\"trial-stimulus\\\">The cat | ____ | _______ | _______ | ____</p>\" \"<p class=\\\"trial-stimulus\\\">_______ | that | _______ | _______ | ____</p>\" ...\n",
      " $ question      : chr  \"\" \"\" \"\" \"\" ...\n",
      " $ correct_answer: chr  \"\" \"\" \"\" \"\" ...\n",
      " $ part_answer   : chr  \"\" \"\" \"\" \"\" ...\n",
      " $ correct       : int  NA NA NA NA NA NA NA NA NA NA ...\n"
     ]
    }
   ],
   "source": [
    "df_example <- read.csv(\"./data/32.csv\")\n",
    "str(df_example)\n"
   ]
  },
  {
   "cell_type": "code",
   "execution_count": 8,
   "id": "ea790af8",
   "metadata": {
    "vscode": {
     "languageId": "r"
    }
   },
   "outputs": [
    {
     "name": "stdout",
     "output_type": "stream",
     "text": [
      "Rows: 1,545\n",
      "Columns: 11\n",
      "$ part_id        \u001b[3m\u001b[90m<int>\u001b[39m\u001b[23m 29, 29, 29, 29, 29, 29, 29, 29, 29, 29, 29, 29, 29, 29,…\n",
      "$ task           \u001b[3m\u001b[90m<chr>\u001b[39m\u001b[23m \"\", \"item\", \"item\", \"item\", \"item\", \"item\", \"item\", \"it…\n",
      "$ item_number    \u001b[3m\u001b[90m<chr>\u001b[39m\u001b[23m \"\", \"null\", \"null\", \"null\", \"null\", \"null\", \"null\", \"nu…\n",
      "$ item_type      \u001b[3m\u001b[90m<chr>\u001b[39m\u001b[23m \"\", \"pr_item\", \"pr_item\", \"pr_item\", \"pr_item\", \"pr_ite…\n",
      "$ clause_type    \u001b[3m\u001b[90m<chr>\u001b[39m\u001b[23m \"\", \"sr\", \"sr\", \"sr\", \"sr\", \"sr\", \"sr\", \"or\", \"or\", \"or…\n",
      "$ number         \u001b[3m\u001b[90m<chr>\u001b[39m\u001b[23m \"\", \"ss\", \"ss\", \"ss\", \"ss\", \"ss\", \"ss\", \"ss\", \"ss\", \"ss…\n",
      "$ segment        \u001b[3m\u001b[90m<chr>\u001b[39m\u001b[23m \"\", \"s0\", \"s1\", \"s2\", \"s3\", \"s4\", \"s5\", \"s0\", \"s1\", \"s2…\n",
      "$ rt             \u001b[3m\u001b[90m<int>\u001b[39m\u001b[23m 2413859, 2521, 405, 368, 350, 382, 376, 1004, 414, 408,…\n",
      "$ correct_answer \u001b[3m\u001b[90m<chr>\u001b[39m\u001b[23m \"\", \"\", \"\", \"\", \"\", \"\", \"\", \"\", \"\", \"\", \"\", \"\", \"\", \"j\"…\n",
      "$ part_answer    \u001b[3m\u001b[90m<chr>\u001b[39m\u001b[23m \"\", \"\", \"\", \"\", \"\", \"\", \"\", \"\", \"\", \"\", \"\", \"\", \"\", \"j\"…\n",
      "$ correct        \u001b[3m\u001b[90m<int>\u001b[39m\u001b[23m NA, NA, NA, NA, NA, NA, NA, NA, NA, NA, NA, NA, NA, 1, …\n"
     ]
    }
   ],
   "source": [
    "df_raw <- reduce(\n",
    "    list(\n",
    "        select(read.csv(\"./data/29.csv\"), part_id, task, item_number, item_type, clause_type, number, segment, rt, correct_answer, part_answer, correct),\n",
    "        select(read.csv(\"./data/31.csv\"), part_id, task, item_number, item_type, clause_type, number, segment, rt, correct_answer, part_answer, correct),\n",
    "        select(read.csv(\"./data/32.csv\"), part_id, task, item_number, item_type, clause_type, number, segment, rt, correct_answer, part_answer, correct),\n",
    "        select(read.csv(\"./data/34.csv\"), part_id, task, item_number, item_type, clause_type, number, segment, rt, correct_answer, part_answer, correct),\n",
    "        select(read.csv(\"./data/37.csv\"), part_id, task, item_number, item_type, clause_type, number, segment, rt, correct_answer, part_answer, correct)\n",
    "    ),\n",
    "    rbind\n",
    ")\n",
    "glimpse(df_raw)\n"
   ]
  },
  {
   "cell_type": "markdown",
   "id": "ee62285f",
   "metadata": {},
   "source": [
    "#### Cleaning Task Data\n"
   ]
  },
  {
   "cell_type": "code",
   "execution_count": 9,
   "id": "94e505af",
   "metadata": {
    "vscode": {
     "languageId": "r"
    }
   },
   "outputs": [
    {
     "name": "stdout",
     "output_type": "stream",
     "text": [
      "Rows: 840\n",
      "Columns: 12\n",
      "$ part_id        \u001b[3m\u001b[90m<fct>\u001b[39m\u001b[23m 29, 29, 29, 29, 29, 29, 29, 29, 29, 29, 29, 29, 29, 29,…\n",
      "$ task           \u001b[3m\u001b[90m<fct>\u001b[39m\u001b[23m item, item, item, item, item, item, item, item, item, i…\n",
      "$ item_number    \u001b[3m\u001b[90m<dbl>\u001b[39m\u001b[23m 8, 8, 8, 8, 8, 4, 4, 4, 4, 4, 4, 4, 4, 4, 4, 4, 4, 4, 4…\n",
      "$ item_type      \u001b[3m\u001b[90m<fct>\u001b[39m\u001b[23m exp_item, exp_item, exp_item, exp_item, exp_item, exp_i…\n",
      "$ clause_type    \u001b[3m\u001b[90m<fct>\u001b[39m\u001b[23m OR, OR, OR, OR, OR, OR, OR, OR, OR, OR, OR, OR, OR, OR,…\n",
      "$ number         \u001b[3m\u001b[90m<fct>\u001b[39m\u001b[23m PP, PP, PP, PP, PP, SP, SP, SP, SP, SP, SP, PP, PP, PP,…\n",
      "$ matching       \u001b[3m\u001b[90m<fct>\u001b[39m\u001b[23m Match, Match, Match, Match, Match, Mismatch, Mismatch, …\n",
      "$ segment        \u001b[3m\u001b[90m<fct>\u001b[39m\u001b[23m S1, S2, S3, S4, S5, S1, S2, S3, S4, S5, Q, S1, S2, S3, …\n",
      "$ rt             \u001b[3m\u001b[90m<int>\u001b[39m\u001b[23m 719, 548, 800, 1176, 1303, 688, 607, 1071, 1832, 2768, …\n",
      "$ correct_answer \u001b[3m\u001b[90m<chr>\u001b[39m\u001b[23m \"\", \"\", \"\", \"\", \"\", \"\", \"\", \"\", \"\", \"\", \"j\", \"\", \"\", \"\"…\n",
      "$ part_answer    \u001b[3m\u001b[90m<chr>\u001b[39m\u001b[23m \"\", \"\", \"\", \"\", \"\", \"\", \"\", \"\", \"\", \"\", \"j\", \"\", \"\", \"\"…\n",
      "$ correct        \u001b[3m\u001b[90m<dbl>\u001b[39m\u001b[23m 1, 1, 1, 1, 1, 1, 1, 1, 1, 1, 1, 1, 1, 1, 1, 1, 1, 1, 1…\n"
     ]
    }
   ],
   "source": [
    "df_clean <- df_raw %>%\n",
    "    arrange(part_id) %>%\n",
    "    filter(.$item_type == \"exp_item\" & .$segment != \"s0\") %>%\n",
    "    mutate(\n",
    "        across(\n",
    "            c(task, item_type, part_id),\n",
    "            factor\n",
    "        ),\n",
    "        item_number = as.numeric(item_number),\n",
    "        clause_type = factor(clause_type, levels = c(\"sr\", \"or\"), labels = c(\"SR\", \"OR\")),\n",
    "        number = factor(number, levels = c(\"ss\", \"pp\", \"sp\", \"ps\"), labels = c(\"SS\", \"PP\", \"SP\", \"PS\")),\n",
    "        matching = factor(ifelse(number == \"SS\" | number == \"PP\", \"match\", \"mismatch\"), labels = c(\"Match\", \"Mismatch\")),\n",
    "        segment = factor(segment, labels = c(\"Q\", \"S1\", \"S2\", \"S3\", \"S4\", \"S5\")),\n",
    "        part_answer = tolower(part_answer),\n",
    "        correct = ifelse(correct_answer == part_answer, 1, 0)\n",
    "    ) %>%\n",
    "    relocate(matching, .after = number) %>%\n",
    "    droplevels()\n",
    "\n",
    "glimpse(df_clean)\n"
   ]
  },
  {
   "cell_type": "markdown",
   "id": "62e9b883",
   "metadata": {},
   "source": [
    "#### Accuracy Data\n"
   ]
  },
  {
   "cell_type": "code",
   "execution_count": 10,
   "id": "0f30bf20",
   "metadata": {
    "vscode": {
     "languageId": "r"
    }
   },
   "outputs": [
    {
     "data": {
      "text/html": [
       "<table class=\"dataframe\">\n",
       "<caption>A tibble: 5 × 2</caption>\n",
       "<thead>\n",
       "\t<tr><th scope=col>part_id</th><th scope=col>correct_pct</th></tr>\n",
       "\t<tr><th scope=col>&lt;fct&gt;</th><th scope=col>&lt;dbl&gt;</th></tr>\n",
       "</thead>\n",
       "<tbody>\n",
       "\t<tr><td>29</td><td>100.0</td></tr>\n",
       "\t<tr><td>31</td><td> 87.5</td></tr>\n",
       "\t<tr><td>32</td><td> 87.5</td></tr>\n",
       "\t<tr><td>34</td><td> 62.5</td></tr>\n",
       "\t<tr><td>37</td><td>100.0</td></tr>\n",
       "</tbody>\n",
       "</table>\n"
      ],
      "text/latex": [
       "A tibble: 5 × 2\n",
       "\\begin{tabular}{ll}\n",
       " part\\_id & correct\\_pct\\\\\n",
       " <fct> & <dbl>\\\\\n",
       "\\hline\n",
       "\t 29 & 100.0\\\\\n",
       "\t 31 &  87.5\\\\\n",
       "\t 32 &  87.5\\\\\n",
       "\t 34 &  62.5\\\\\n",
       "\t 37 & 100.0\\\\\n",
       "\\end{tabular}\n"
      ],
      "text/markdown": [
       "\n",
       "A tibble: 5 × 2\n",
       "\n",
       "| part_id &lt;fct&gt; | correct_pct &lt;dbl&gt; |\n",
       "|---|---|\n",
       "| 29 | 100.0 |\n",
       "| 31 |  87.5 |\n",
       "| 32 |  87.5 |\n",
       "| 34 |  62.5 |\n",
       "| 37 | 100.0 |\n",
       "\n"
      ],
      "text/plain": [
       "  part_id correct_pct\n",
       "1 29      100.0      \n",
       "2 31       87.5      \n",
       "3 32       87.5      \n",
       "4 34       62.5      \n",
       "5 37      100.0      "
      ]
     },
     "metadata": {},
     "output_type": "display_data"
    }
   ],
   "source": [
    "df_clean %>%\n",
    "    filter(\n",
    "        task == \"question\"\n",
    "    ) %>%\n",
    "    group_by(part_id) %>%\n",
    "    summarise(correct_pct = (sum(correct == 1) / (sum(correct == 1) + sum(correct == 0))) * 100)\n"
   ]
  },
  {
   "cell_type": "markdown",
   "id": "5dcd1d14",
   "metadata": {},
   "source": [
    "#### Normalization\n"
   ]
  },
  {
   "cell_type": "code",
   "execution_count": 11,
   "id": "b563f84c",
   "metadata": {
    "vscode": {
     "languageId": "r"
    }
   },
   "outputs": [
    {
     "name": "stderr",
     "output_type": "stream",
     "text": [
      "Warning message:\n",
      "“\u001b[1m\u001b[22mThe dot-dot notation (`..density..`) was deprecated in ggplot2 3.4.0.\n",
      "\u001b[36mℹ\u001b[39m Please use `after_stat(density)` instead.”\n",
      "\u001b[1m\u001b[22m`stat_bin()` using `bins = 30`. Pick better value with `binwidth`.\n"
     ]
    },
    {
     "data": {
      "image/png": "[encoded data removed]",
      "text/plain": [
       "plot without title"
      ]
     },
     "metadata": {
      "image/png": {
       "height": 420,
       "width": 420
      }
     },
     "output_type": "display_data"
    }
   ],
   "source": [
    "skewed_plot <- df_clean %>%\n",
    "    ggplot(aes(x = rt)) +\n",
    "    geom_histogram(aes(y = ..density..)) +\n",
    "    stat_function(\n",
    "        fun = dnorm,\n",
    "        args = list(mean = mean(df_clean$rt), sd = sd(df_clean$rt)),\n",
    "        linewidth = 1,\n",
    "        color = accent_color\n",
    "    )\n",
    "skewed_plot\n"
   ]
  },
  {
   "cell_type": "code",
   "execution_count": 12,
   "id": "c5d3a21f",
   "metadata": {
    "vscode": {
     "languageId": "r"
    }
   },
   "outputs": [
    {
     "name": "stderr",
     "output_type": "stream",
     "text": [
      "\u001b[1m\u001b[22m`stat_bin()` using `bins = 30`. Pick better value with `binwidth`.\n"
     ]
    },
    {
     "data": {
      "image/png": "[encoded data removed]",
      "text/plain": [
       "plot without title"
      ]
     },
     "metadata": {
      "image/png": {
       "height": 420,
       "width": 420
      }
     },
     "output_type": "display_data"
    }
   ],
   "source": [
    "df_clean <- df_clean %>%\n",
    "    mutate(rt = log(rt))\n",
    "\n",
    "normal_plot <- df_clean %>%\n",
    "    ggplot(aes(x = rt)) +\n",
    "    geom_histogram(aes(y = ..density..)) +\n",
    "    stat_function(\n",
    "        fun = dnorm,\n",
    "        args = list(mean = mean(df_clean$rt), sd = sd(df_clean$rt)),\n",
    "        linewidth = 1,\n",
    "        color = accent_color\n",
    "    )\n",
    "normal_plot\n"
   ]
  },
  {
   "cell_type": "code",
   "execution_count": 13,
   "id": "14376525",
   "metadata": {
    "vscode": {
     "languageId": "r"
    }
   },
   "outputs": [
    {
     "data": {
      "text/html": [
       "<strong>25%:</strong> 176.653803969726"
      ],
      "text/latex": [
       "\\textbf{25\\textbackslash{}\\%:} 176.653803969726"
      ],
      "text/markdown": [
       "**25%:** 176.653803969726"
      ],
      "text/plain": [
       "     25% \n",
       "176.6538 "
      ]
     },
     "metadata": {},
     "output_type": "display_data"
    },
    {
     "data": {
      "text/html": [
       "<strong>75%:</strong> 3997.24763425424"
      ],
      "text/latex": [
       "\\textbf{75\\textbackslash{}\\%:} 3997.24763425424"
      ],
      "text/markdown": [
       "**75%:** 3997.24763425424"
      ],
      "text/plain": [
       "     75% \n",
       "3997.248 "
      ]
     },
     "metadata": {},
     "output_type": "display_data"
    }
   ],
   "source": [
    "q1 <- quantile(df_clean$rt, 0.25)\n",
    "q3 <- quantile(df_clean$rt, 0.75)\n",
    "iqr <- q3 - q1\n",
    "lower_limit <- q1 - iqr * 1.5\n",
    "upper_limit <- q3 + iqr * 1.5\n",
    "\n",
    "exp(lower_limit)\n",
    "exp(upper_limit)\n",
    "\n",
    "n_obs_pre <- nrow(df_clean)\n",
    "\n",
    "set_wrong_answer <- function(df) {\n",
    "    for (i in seq_len(nrow(df))) {\n",
    "        if (df$correct[i] == 0) {\n",
    "            start_row <- max(1, i - 5)\n",
    "            df$correct[start_row:i] <- 0\n",
    "        }\n",
    "    }\n",
    "    return(df)\n",
    "}\n",
    "\n",
    "df_clean <- set_wrong_answer(df_clean)\n",
    "\n",
    "df_clean <- df_clean %>%\n",
    "    filter(.$rt > lower_limit & .$rt < upper_limit & correct == 1)\n",
    "\n",
    "n_obs_post <- nrow(df_clean)\n",
    "\n",
    "n_outliers <- n_obs_pre - n_obs_post\n"
   ]
  },
  {
   "cell_type": "code",
   "execution_count": 14,
   "id": "0990b852",
   "metadata": {
    "vscode": {
     "languageId": "r"
    }
   },
   "outputs": [
    {
     "name": "stdout",
     "output_type": "stream",
     "text": [
      "Number of outliers: 50 \n",
      "Percentage of data loss: 5.95 %"
     ]
    }
   ],
   "source": [
    "cat(\"Number of outliers:\", n_outliers, \"\\n\")\n",
    "\n",
    "cat(\"Percentage of data loss:\", round(n_outliers * 100 / n_obs_pre, 2), \"%\")\n"
   ]
  },
  {
   "cell_type": "code",
   "execution_count": 15,
   "id": "b6762e5d",
   "metadata": {
    "vscode": {
     "languageId": "r"
    }
   },
   "outputs": [
    {
     "name": "stderr",
     "output_type": "stream",
     "text": [
      "\u001b[1m\u001b[22m`stat_bin()` using `bins = 30`. Pick better value with `binwidth`.\n"
     ]
    }
   ],
   "source": [
    "distribution_plot <- df_clean %>%\n",
    "    ggplot(aes(x = rt)) +\n",
    "    geom_histogram(\n",
    "        aes(y = ..density..),\n",
    "        fill = \"#FF9671\"\n",
    "    ) +\n",
    "    stat_function(\n",
    "        fun = dnorm,\n",
    "        args = list(mean = mean(df_clean$rt), sd = sd(df_clean$rt)),\n",
    "        linewidth = 1,\n",
    "        color = accent_color\n",
    "    ) +\n",
    "    labs(\n",
    "        title = \"RT Data Distribution\",\n",
    "        x = \"Reaction Times (log10)\",\n",
    "        y = element_blank()\n",
    "    ) +\n",
    "    theme(\n",
    "        panel.grid.major.x = element_blank()\n",
    "    )\n",
    "\n",
    "ggsave(filename = \"distribution_plot.png\", path = plots_path, height = 7, width = 14, unit = \"cm\")\n"
   ]
  },
  {
   "cell_type": "code",
   "execution_count": 16,
   "id": "3f0435c2",
   "metadata": {
    "vscode": {
     "languageId": "r"
    }
   },
   "outputs": [
    {
     "data": {
      "text/plain": [
       "   Min. 1st Qu.  Median    Mean 3rd Qu.    Max. \n",
       "  215.0   569.0   773.5  1008.5  1172.0  3790.0 "
      ]
     },
     "metadata": {},
     "output_type": "display_data"
    },
    {
     "data": {
      "text/html": [
       "668.248471444091"
      ],
      "text/latex": [
       "668.248471444091"
      ],
      "text/markdown": [
       "668.248471444091"
      ],
      "text/plain": [
       "[1] 668.2485"
      ]
     },
     "metadata": {},
     "output_type": "display_data"
    },
    {
     "data": {
      "text/plain": [
       "\n",
       "\tShapiro-Wilk normality test\n",
       "\n",
       "data:  df_clean$rt\n",
       "W = 0.96201, p-value = 1.882e-13\n"
      ]
     },
     "metadata": {},
     "output_type": "display_data"
    }
   ],
   "source": [
    "summary(exp(df_clean$rt))\n",
    "sd(exp(df_clean$rt))\n",
    "\n",
    "shapiro.test(df_clean$rt)\n"
   ]
  },
  {
   "cell_type": "code",
   "execution_count": 17,
   "id": "6fbd17be",
   "metadata": {
    "vscode": {
     "languageId": "r"
    }
   },
   "outputs": [
    {
     "data": {
      "image/png": "[encoded data removed]",
      "text/plain": [
       "plot without title"
      ]
     },
     "metadata": {
      "image/png": {
       "height": 420,
       "width": 420
      }
     },
     "output_type": "display_data"
    }
   ],
   "source": [
    "qq_plot <- df_clean %>%\n",
    "    ggplot(aes(sample = rt)) +\n",
    "    stat_qq() +\n",
    "    stat_qq_line(color = accent_color, linewidth = 1) +\n",
    "    labs(title = \"Q-Q Plot of RTs\", x = \"Theoretical Quantiles\", y = \"Sample Quantiles\")\n",
    "qq_plot\n"
   ]
  },
  {
   "cell_type": "markdown",
   "id": "2b91426a",
   "metadata": {},
   "source": [
    "#### Merging Participant and Task Data\n"
   ]
  },
  {
   "cell_type": "code",
   "execution_count": 18,
   "id": "c800a10f",
   "metadata": {
    "vscode": {
     "languageId": "r"
    }
   },
   "outputs": [
    {
     "data": {
      "text/plain": [
       " part_id        task      item_number       item_type   clause_type number  \n",
       " 29:164   item    :762   Min.   :1.000   exp_item:790   SR:391      SS:198  \n",
       " 31:158   question: 28   1st Qu.:1.750                  OR:399      PP:200  \n",
       " 32:158                  Median :4.000                              SP:200  \n",
       " 34:142                  Mean   :4.981                              PS:192  \n",
       " 37:168                  3rd Qu.:7.000                                      \n",
       "                         Max.   :8.000                                      \n",
       "     matching   segment        rt        correct_answer     part_answer       \n",
       " Match   :398   Q : 28   Min.   :5.371   Length:790         Length:790        \n",
       " Mismatch:392   S1:154   1st Qu.:6.344   Class :character   Class :character  \n",
       "                S2:152   Median :6.651   Mode  :character   Mode  :character  \n",
       "                S3:155   Mean   :6.746                                        \n",
       "                S4:151   3rd Qu.:7.066                                        \n",
       "                S5:150   Max.   :8.240                                        \n",
       "    correct     part_age              part_lang   part_impaired part_abroad\n",
       " Min.   :1   18 - 25:622   Catalan, Spanish:626   No:790        No:790     \n",
       " 1st Qu.:1   26 - 30:168   Spanish         :164                            \n",
       " Median :1                                                                 \n",
       " Mean   :1                                                                 \n",
       " 3rd Qu.:1                                                                 \n",
       " Max.   :1                                                                 \n",
       "         part_certificate  part_cat_exp  part_cat_pro  part_spa_exp\n",
       " B2 (First)      :142     < 1h   :164   < 1h   :164   > 5h   :332  \n",
       " C1 (Advanced)   :484     > 5h   :158   > 5h   :316   3h - 5h:458  \n",
       " C2 (Proficiency):164     1h - 3h:468   1h - 3h:310                \n",
       "                                                                   \n",
       "                                                                   \n",
       "                                                                   \n",
       "  part_spa_pro  part_eng_exp  part_eng_pro part_eng_onset_time\n",
       " > 5h   :332   > 5h   :332   < 1h   :158   Min.   : 6.000     \n",
       " 1h - 3h:158   1h - 3h:316   1h - 3h:490   1st Qu.: 6.000     \n",
       " 3h - 5h:300   3h - 5h:142   3h - 5h:142   Median : 6.000     \n",
       "                                           Mean   : 9.139     \n",
       "                                           3rd Qu.:10.000     \n",
       "                                           Max.   :17.000     "
      ]
     },
     "metadata": {},
     "output_type": "display_data"
    }
   ],
   "source": [
    "df_part$part_experiment <- NULL\n",
    "\n",
    "df_merged <- merge(df_clean, df_part, by = \"part_id\")\n",
    "summary(df_merged)\n"
   ]
  },
  {
   "cell_type": "markdown",
   "id": "a3a7f282",
   "metadata": {},
   "source": [
    "### 3. Mixed Effects Models\n"
   ]
  },
  {
   "cell_type": "markdown",
   "id": "633c44f6",
   "metadata": {},
   "source": [
    "#### Accuracy Data\n"
   ]
  },
  {
   "cell_type": "markdown",
   "id": "5b4804a2",
   "metadata": {},
   "source": [
    "#### Clause Effects Model\n"
   ]
  },
  {
   "cell_type": "code",
   "execution_count": 19,
   "id": "21271300",
   "metadata": {
    "vscode": {
     "languageId": "r"
    }
   },
   "outputs": [
    {
     "data": {
      "text/plain": [
       "Linear mixed model fit by REML. t-tests use Satterthwaite's method [\n",
       "lmerModLmerTest]\n",
       "Formula: rt ~ clause_type + (1 | part_eng_exp) + (1 | part_eng_pro)\n",
       "   Data: .\n",
       "\n",
       "REML criterion at convergence: 412.2\n",
       "\n",
       "Scaled residuals: \n",
       "    Min      1Q  Median      3Q     Max \n",
       "-2.1651 -0.6742 -0.1335  0.5554  3.2170 \n",
       "\n",
       "Random effects:\n",
       " Groups       Name        Variance  Std.Dev. \n",
       " part_eng_exp (Intercept) 8.076e-02 0.2841906\n",
       " part_eng_pro (Intercept) 9.960e-09 0.0000998\n",
       " Residual                 2.147e-01 0.4633407\n",
       "Number of obs: 306, groups:  part_eng_exp, 3; part_eng_pro, 3\n",
       "\n",
       "Fixed effects:\n",
       "               Estimate Std. Error        df t value Pr(>|t|)    \n",
       "(Intercept)     6.69302    0.16862   2.12867  39.693 0.000431 ***\n",
       "clause_typeOR   0.26105    0.05298 302.02589   4.927 1.38e-06 ***\n",
       "---\n",
       "Signif. codes:  0 ‘***’ 0.001 ‘**’ 0.01 ‘*’ 0.05 ‘.’ 0.1 ‘ ’ 1\n",
       "\n",
       "Correlation of Fixed Effects:\n",
       "            (Intr)\n",
       "claus_typOR -0.159"
      ]
     },
     "metadata": {},
     "output_type": "display_data"
    }
   ],
   "source": [
    "lm_clause <- df_merged %>%\n",
    "    filter(segment %in% c(\"S3\", \"S4\")) %>%\n",
    "    lmer(data = ., rt ~ clause_type + (1 | part_eng_exp) + (1 | part_eng_pro))\n",
    "summary(lm_clause)\n"
   ]
  },
  {
   "cell_type": "code",
   "execution_count": 20,
   "id": "f1381d85",
   "metadata": {
    "vscode": {
     "languageId": "r"
    }
   },
   "outputs": [
    {
     "data": {
      "text/html": [
       "<table class=\"dataframe\">\n",
       "<caption>A tibble: 2 × 9</caption>\n",
       "<thead>\n",
       "\t<tr><th scope=col>effect</th><th scope=col>group</th><th scope=col>term</th><th scope=col>estimate</th><th scope=col>std.error</th><th scope=col>statistic</th><th scope=col>df</th><th scope=col>p.value</th><th scope=col>code</th></tr>\n",
       "\t<tr><th scope=col>&lt;chr&gt;</th><th scope=col>&lt;chr&gt;</th><th scope=col>&lt;chr&gt;</th><th scope=col>&lt;dbl&gt;</th><th scope=col>&lt;dbl&gt;</th><th scope=col>&lt;dbl&gt;</th><th scope=col>&lt;dbl&gt;</th><th scope=col>&lt;chr&gt;</th><th scope=col>&lt;chr&gt;</th></tr>\n",
       "</thead>\n",
       "<tbody>\n",
       "\t<tr><td>fixed</td><td>NA</td><td>SR</td><td> 806.7564</td><td>0.16861838</td><td>39.693310</td><td><span style=white-space:pre-wrap>  2.128667</span></td><td>&lt; 0.001</td><td>***</td></tr>\n",
       "\t<tr><td>fixed</td><td>NA</td><td>OR</td><td>1047.4046</td><td>0.05298202</td><td> 4.927121</td><td>302.025885</td><td>&lt; 0.001</td><td>***</td></tr>\n",
       "</tbody>\n",
       "</table>\n"
      ],
      "text/latex": [
       "A tibble: 2 × 9\n",
       "\\begin{tabular}{lllllllll}\n",
       " effect & group & term & estimate & std.error & statistic & df & p.value & code\\\\\n",
       " <chr> & <chr> & <chr> & <dbl> & <dbl> & <dbl> & <dbl> & <chr> & <chr>\\\\\n",
       "\\hline\n",
       "\t fixed & NA & SR &  806.7564 & 0.16861838 & 39.693310 &   2.128667 & < 0.001 & ***\\\\\n",
       "\t fixed & NA & OR & 1047.4046 & 0.05298202 &  4.927121 & 302.025885 & < 0.001 & ***\\\\\n",
       "\\end{tabular}\n"
      ],
      "text/markdown": [
       "\n",
       "A tibble: 2 × 9\n",
       "\n",
       "| effect &lt;chr&gt; | group &lt;chr&gt; | term &lt;chr&gt; | estimate &lt;dbl&gt; | std.error &lt;dbl&gt; | statistic &lt;dbl&gt; | df &lt;dbl&gt; | p.value &lt;chr&gt; | code &lt;chr&gt; |\n",
       "|---|---|---|---|---|---|---|---|---|\n",
       "| fixed | NA | SR |  806.7564 | 0.16861838 | 39.693310 |   2.128667 | &lt; 0.001 | *** |\n",
       "| fixed | NA | OR | 1047.4046 | 0.05298202 |  4.927121 | 302.025885 | &lt; 0.001 | *** |\n",
       "\n"
      ],
      "text/plain": [
       "  effect group term estimate  std.error  statistic df         p.value code\n",
       "1 fixed  NA    SR    806.7564 0.16861838 39.693310   2.128667 < 0.001 *** \n",
       "2 fixed  NA    OR   1047.4046 0.05298202  4.927121 302.025885 < 0.001 *** "
      ]
     },
     "metadata": {},
     "output_type": "display_data"
    }
   ],
   "source": [
    "lm_clause_tidy <- lm_clause %>%\n",
    "    tidy() %>%\n",
    "    filter(effect == \"fixed\") %>%\n",
    "    mutate(\n",
    "        estimate = exp(estimate),\n",
    "        code = case_when(\n",
    "            p.value < 0.001 ~ \"***\",\n",
    "            p.value < 0.01 ~ \"**\",\n",
    "            p.value < 0.05 ~ \"*\",\n",
    "            p.value > 0.05 ~ \" \"\n",
    "        ),\n",
    "        p.value = case_when(\n",
    "            p.value < 0.001 ~ \"< 0.001\",\n",
    "            p.value < 0.01 ~ \"< 0.01\",\n",
    "            p.value < 0.05 ~ \"< 0.05\",\n",
    "            p.value > 0.05 ~ as.character(round(p.value, 2)),\n",
    "        ),\n",
    "        term = case_when(\n",
    "            term == \"(Intercept)\" ~ \"SR\",\n",
    "            term == \"clause_typeOR\" ~ \"OR\",\n",
    "        )\n",
    "    )\n",
    "\n",
    "lm_clause_tidy$estimate <- ifelse(lm_clause_tidy$term != \"SR\", lm_clause_tidy$estimate[1] * lm_clause_tidy$estimate, lm_clause_tidy$estimate)\n",
    "\n",
    "lm_clause_tidy\n"
   ]
  },
  {
   "cell_type": "code",
   "execution_count": 21,
   "id": "174c5350",
   "metadata": {
    "vscode": {
     "languageId": "r"
    }
   },
   "outputs": [
    {
     "name": "stderr",
     "output_type": "stream",
     "text": [
      "file:////var/folders/l7/2mdpz2wn395f0w8khq_kf29h0000gn/T//Rtmp9NNoog/file367279abdcb3.html screenshot completed\n",
      "\n"
     ]
    }
   ],
   "source": [
    "lm_clause_table <- lm_clause_tidy %>%\n",
    "    gt() %>%\n",
    "    cols_hide(columns = c(effect, group, df)) %>%\n",
    "    tab_options(\n",
    "        table.width = 453.5,\n",
    "        table.font.names = \"Times\",\n",
    "        table.font.size = 12,\n",
    "        table.border.top.width = 0,\n",
    "        heading.title.font.size = 12,\n",
    "        heading.subtitle.font.size = 11,\n",
    "        column_labels.font.weight = \"bold\",\n",
    "        heading.border.bottom.color = accent_color,\n",
    "        column_labels.background.color = accent_color\n",
    "    ) %>%\n",
    "    tab_header(\n",
    "        title = md(\"**1st LME Model Output**\"),\n",
    "        subtitle = md(\"**Effects of *Clause Type* on RTs**\")\n",
    "    ) %>%\n",
    "    cols_label(\n",
    "        term = \"Condition\",\n",
    "        estimate = \"Predicted Mean RTs (ms)\",\n",
    "        std.error = \"Std. Error\",\n",
    "        statistic = md(\"*t*-value\"),\n",
    "        p.value = md(\"*p*-value\"),\n",
    "        code = \"Signif. Code\"\n",
    "    ) %>%\n",
    "    fmt_number(\n",
    "        columns = c(term, estimate, std.error, statistic, p.value),\n",
    "        decimals = 3\n",
    "    )\n",
    "\n",
    "gtsave(lm_clause_table, filename = \"clause_table.png\", path = tables_path)\n"
   ]
  },
  {
   "cell_type": "markdown",
   "id": "2d9a08d9",
   "metadata": {},
   "source": [
    "#### Number Effects Model\n"
   ]
  },
  {
   "cell_type": "code",
   "execution_count": 22,
   "id": "350d9419",
   "metadata": {
    "vscode": {
     "languageId": "r"
    }
   },
   "outputs": [
    {
     "name": "stderr",
     "output_type": "stream",
     "text": [
      "boundary (singular) fit: see help('isSingular')\n",
      "\n"
     ]
    },
    {
     "data": {
      "text/plain": [
       "Linear mixed model fit by REML. t-tests use Satterthwaite's method [\n",
       "lmerModLmerTest]\n",
       "Formula: rt ~ number * clause_type + (1 | part_eng_exp) + (1 | part_eng_pro)\n",
       "   Data: .\n",
       "\n",
       "REML criterion at convergence: 427.4\n",
       "\n",
       "Scaled residuals: \n",
       "    Min      1Q  Median      3Q     Max \n",
       "-2.1506 -0.6704 -0.0725  0.5170  3.2079 \n",
       "\n",
       "Random effects:\n",
       " Groups       Name        Variance Std.Dev.\n",
       " part_eng_exp (Intercept) 0.07978  0.2824  \n",
       " part_eng_pro (Intercept) 0.00000  0.0000  \n",
       " Residual                 0.21750  0.4664  \n",
       "Number of obs: 306, groups:  part_eng_exp, 3; part_eng_pro, 3\n",
       "\n",
       "Fixed effects:\n",
       "                        Estimate Std. Error        df t value Pr(>|t|)    \n",
       "(Intercept)              6.65686    0.17996   2.82713  36.991 6.96e-05 ***\n",
       "numberPP                -0.01671    0.10699 296.02419  -0.156  0.87598    \n",
       "numberSP                 0.06989    0.10706 296.05148   0.653  0.51439    \n",
       "numberPS                 0.09461    0.10706 296.05148   0.884  0.37757    \n",
       "clause_typeOR            0.29339    0.10631 296.02518   2.760  0.00614 ** \n",
       "numberPP:clause_typeOR  -0.01360    0.15034 296.02419  -0.090  0.92798    \n",
       "numberSP:clause_typeOR  -0.07062    0.15038 296.03650  -0.470  0.63898    \n",
       "numberPS:clause_typeOR  -0.04293    0.15135 296.02605  -0.284  0.77689    \n",
       "---\n",
       "Signif. codes:  0 ‘***’ 0.001 ‘**’ 0.01 ‘*’ 0.05 ‘.’ 0.1 ‘ ’ 1\n",
       "\n",
       "Correlation of Fixed Effects:\n",
       "            (Intr) nmbrPP nmbrSP nmbrPS cls_OR nPP:_O nSP:_O\n",
       "numberPP    -0.297                                          \n",
       "numberSP    -0.296  0.500                                   \n",
       "numberPS    -0.296  0.500  0.501                            \n",
       "claus_typOR -0.299  0.503  0.503  0.503                     \n",
       "nmbrPP:c_OR  0.212 -0.712 -0.356 -0.356 -0.707              \n",
       "nmbrSP:c_OR  0.210 -0.356 -0.712 -0.356 -0.707  0.500       \n",
       "nmbrPS:c_OR  0.210 -0.353 -0.354 -0.707 -0.702  0.497  0.497\n",
       "optimizer (nloptwrap) convergence code: 0 (OK)\n",
       "boundary (singular) fit: see help('isSingular')\n"
      ]
     },
     "metadata": {},
     "output_type": "display_data"
    }
   ],
   "source": [
    "lm_number <- df_merged %>%\n",
    "    filter(segment %in% c(\"S3\", \"S4\")) %>%\n",
    "    lmer(data = ., rt ~ number * clause_type + (1 | part_eng_exp) + (1 | part_eng_pro))\n",
    "summary(lm_number)\n"
   ]
  },
  {
   "cell_type": "code",
   "execution_count": 23,
   "id": "f28ef87d",
   "metadata": {
    "vscode": {
     "languageId": "r"
    }
   },
   "outputs": [
    {
     "data": {
      "text/html": [
       "<table class=\"dataframe\">\n",
       "<caption>A tibble: 8 × 9</caption>\n",
       "<thead>\n",
       "\t<tr><th scope=col>effect</th><th scope=col>group</th><th scope=col>term</th><th scope=col>estimate</th><th scope=col>std.error</th><th scope=col>statistic</th><th scope=col>df</th><th scope=col>p.value</th><th scope=col>code</th></tr>\n",
       "\t<tr><th scope=col>&lt;chr&gt;</th><th scope=col>&lt;chr&gt;</th><th scope=col>&lt;chr&gt;</th><th scope=col>&lt;dbl&gt;</th><th scope=col>&lt;dbl&gt;</th><th scope=col>&lt;dbl&gt;</th><th scope=col>&lt;dbl&gt;</th><th scope=col>&lt;chr&gt;</th><th scope=col>&lt;chr&gt;</th></tr>\n",
       "</thead>\n",
       "<tbody>\n",
       "\t<tr><td>fixed</td><td>NA</td><td>SR * SS</td><td> 778.1044</td><td>0.1799596</td><td>36.99086200</td><td><span style=white-space:pre-wrap>  2.827133</span></td><td>&lt; 0.001</td><td>***</td></tr>\n",
       "\t<tr><td>fixed</td><td>NA</td><td>SR * PP</td><td> 765.2081</td><td>0.1069931</td><td>-0.15620422</td><td>296.024186</td><td>0.88   </td><td>   </td></tr>\n",
       "\t<tr><td>fixed</td><td>NA</td><td>SR * SP</td><td> 834.4318</td><td>0.1070626</td><td> 0.65279909</td><td>296.051481</td><td>0.51   </td><td>   </td></tr>\n",
       "\t<tr><td>fixed</td><td>NA</td><td>SR * PS</td><td> 855.3182</td><td>0.1070626</td><td> 0.88371504</td><td>296.051481</td><td>0.38   </td><td>   </td></tr>\n",
       "\t<tr><td>fixed</td><td>NA</td><td>OR * SS</td><td>1043.4144</td><td>0.1063086</td><td> 2.75982350</td><td>296.025184</td><td>&lt; 0.01 </td><td>** </td></tr>\n",
       "\t<tr><td>fixed</td><td>NA</td><td>OR * PP</td><td> 767.5934</td><td>0.1503380</td><td>-0.09046558</td><td>296.024186</td><td>0.93   </td><td>   </td></tr>\n",
       "\t<tr><td>fixed</td><td>NA</td><td>OR * SP</td><td> 725.0507</td><td>0.1503792</td><td>-0.46960630</td><td>296.036503</td><td>0.64   </td><td>   </td></tr>\n",
       "\t<tr><td>fixed</td><td>NA</td><td>OR * PS</td><td> 745.4101</td><td>0.1513471</td><td>-0.28362735</td><td>296.026052</td><td>0.78   </td><td>   </td></tr>\n",
       "</tbody>\n",
       "</table>\n"
      ],
      "text/latex": [
       "A tibble: 8 × 9\n",
       "\\begin{tabular}{lllllllll}\n",
       " effect & group & term & estimate & std.error & statistic & df & p.value & code\\\\\n",
       " <chr> & <chr> & <chr> & <dbl> & <dbl> & <dbl> & <dbl> & <chr> & <chr>\\\\\n",
       "\\hline\n",
       "\t fixed & NA & SR * SS &  778.1044 & 0.1799596 & 36.99086200 &   2.827133 & < 0.001 & ***\\\\\n",
       "\t fixed & NA & SR * PP &  765.2081 & 0.1069931 & -0.15620422 & 296.024186 & 0.88    &    \\\\\n",
       "\t fixed & NA & SR * SP &  834.4318 & 0.1070626 &  0.65279909 & 296.051481 & 0.51    &    \\\\\n",
       "\t fixed & NA & SR * PS &  855.3182 & 0.1070626 &  0.88371504 & 296.051481 & 0.38    &    \\\\\n",
       "\t fixed & NA & OR * SS & 1043.4144 & 0.1063086 &  2.75982350 & 296.025184 & < 0.01  & ** \\\\\n",
       "\t fixed & NA & OR * PP &  767.5934 & 0.1503380 & -0.09046558 & 296.024186 & 0.93    &    \\\\\n",
       "\t fixed & NA & OR * SP &  725.0507 & 0.1503792 & -0.46960630 & 296.036503 & 0.64    &    \\\\\n",
       "\t fixed & NA & OR * PS &  745.4101 & 0.1513471 & -0.28362735 & 296.026052 & 0.78    &    \\\\\n",
       "\\end{tabular}\n"
      ],
      "text/markdown": [
       "\n",
       "A tibble: 8 × 9\n",
       "\n",
       "| effect &lt;chr&gt; | group &lt;chr&gt; | term &lt;chr&gt; | estimate &lt;dbl&gt; | std.error &lt;dbl&gt; | statistic &lt;dbl&gt; | df &lt;dbl&gt; | p.value &lt;chr&gt; | code &lt;chr&gt; |\n",
       "|---|---|---|---|---|---|---|---|---|\n",
       "| fixed | NA | SR * SS |  778.1044 | 0.1799596 | 36.99086200 |   2.827133 | &lt; 0.001 | *** |\n",
       "| fixed | NA | SR * PP |  765.2081 | 0.1069931 | -0.15620422 | 296.024186 | 0.88    | <!----> |\n",
       "| fixed | NA | SR * SP |  834.4318 | 0.1070626 |  0.65279909 | 296.051481 | 0.51    | <!----> |\n",
       "| fixed | NA | SR * PS |  855.3182 | 0.1070626 |  0.88371504 | 296.051481 | 0.38    | <!----> |\n",
       "| fixed | NA | OR * SS | 1043.4144 | 0.1063086 |  2.75982350 | 296.025184 | &lt; 0.01  | **  |\n",
       "| fixed | NA | OR * PP |  767.5934 | 0.1503380 | -0.09046558 | 296.024186 | 0.93    | <!----> |\n",
       "| fixed | NA | OR * SP |  725.0507 | 0.1503792 | -0.46960630 | 296.036503 | 0.64    | <!----> |\n",
       "| fixed | NA | OR * PS |  745.4101 | 0.1513471 | -0.28362735 | 296.026052 | 0.78    | <!----> |\n",
       "\n"
      ],
      "text/plain": [
       "  effect group term    estimate  std.error statistic   df         p.value code\n",
       "1 fixed  NA    SR * SS  778.1044 0.1799596 36.99086200   2.827133 < 0.001 *** \n",
       "2 fixed  NA    SR * PP  765.2081 0.1069931 -0.15620422 296.024186 0.88        \n",
       "3 fixed  NA    SR * SP  834.4318 0.1070626  0.65279909 296.051481 0.51        \n",
       "4 fixed  NA    SR * PS  855.3182 0.1070626  0.88371504 296.051481 0.38        \n",
       "5 fixed  NA    OR * SS 1043.4144 0.1063086  2.75982350 296.025184 < 0.01  **  \n",
       "6 fixed  NA    OR * PP  767.5934 0.1503380 -0.09046558 296.024186 0.93        \n",
       "7 fixed  NA    OR * SP  725.0507 0.1503792 -0.46960630 296.036503 0.64        \n",
       "8 fixed  NA    OR * PS  745.4101 0.1513471 -0.28362735 296.026052 0.78        "
      ]
     },
     "metadata": {},
     "output_type": "display_data"
    }
   ],
   "source": [
    "lm_number_tidy <- lm_number %>%\n",
    "    tidy() %>%\n",
    "    filter(effect == \"fixed\") %>%\n",
    "    mutate(\n",
    "        estimate = exp(estimate),\n",
    "        code = case_when(\n",
    "            p.value < 0.001 ~ \"***\",\n",
    "            p.value < 0.01 ~ \"**\",\n",
    "            p.value < 0.05 ~ \"*\",\n",
    "            p.value > 0.05 ~ \" \"\n",
    "        ),\n",
    "        p.value = case_when(\n",
    "            p.value < 0.001 ~ \"< 0.001\",\n",
    "            p.value < 0.01 ~ \"< 0.01\",\n",
    "            p.value < 0.05 ~ \"< 0.05\",\n",
    "            p.value > 0.05 ~ as.character(round(p.value, 2)),\n",
    "        ),\n",
    "        term = case_when(\n",
    "            term == \"(Intercept)\" ~ \"SR * SS\",\n",
    "            term == \"clause_typeOR\" ~ \"OR * SS\",\n",
    "            term == \"numberPP\" ~ \"SR * PP\",\n",
    "            term == \"numberSP\" ~ \"SR * SP\",\n",
    "            term == \"numberPS\" ~ \"SR * PS\",\n",
    "            term == \"numberPP:clause_typeOR\" ~ \"OR * PP\",\n",
    "            term == \"numberSP:clause_typeOR\" ~ \"OR * SP\",\n",
    "            term == \"numberPS:clause_typeOR\" ~ \"OR * PS\",\n",
    "        )\n",
    "    )\n",
    "\n",
    "lm_number_tidy$estimate <- ifelse(lm_number_tidy$term != \"SR * SS\", lm_number_tidy$estimate[1] * lm_number_tidy$estimate, lm_number_tidy$estimate)\n",
    "\n",
    "lm_number_tidy\n"
   ]
  },
  {
   "cell_type": "code",
   "execution_count": 24,
   "id": "3c0f3dde",
   "metadata": {
    "vscode": {
     "languageId": "r"
    }
   },
   "outputs": [
    {
     "name": "stderr",
     "output_type": "stream",
     "text": [
      "file:////var/folders/l7/2mdpz2wn395f0w8khq_kf29h0000gn/T//Rtmp9NNoog/file36725189dd4f.html screenshot completed\n",
      "\n"
     ]
    }
   ],
   "source": [
    "lm_number_table <- lm_number_tidy %>%\n",
    "    gt() %>%\n",
    "    cols_hide(columns = c(effect, group, df)) %>%\n",
    "    tab_options(\n",
    "        table.width = 453.5,\n",
    "        table.font.names = \"Times\",\n",
    "        table.font.size = 12,\n",
    "        table.border.top.width = 0,\n",
    "        heading.title.font.size = 12,\n",
    "        heading.subtitle.font.size = 11,\n",
    "        column_labels.font.weight = \"bold\",\n",
    "        heading.border.bottom.color = accent_color,\n",
    "        column_labels.background.color = accent_color\n",
    "    ) %>%\n",
    "    tab_header(\n",
    "        title = md(\"**2nd LME Model Output**\"),\n",
    "        subtitle = md(\"**Effects of Interaction *Number* * *Clause Type* on RTs**\")\n",
    "    ) %>%\n",
    "    cols_label(\n",
    "        term = \"Condition\",\n",
    "        estimate = \"Predicted Mean RTs (ms)\",\n",
    "        std.error = \"Std. Error\",\n",
    "        statistic = md(\"*t*-value\"),\n",
    "        p.value = md(\"*p*-value\"),\n",
    "        code = \"Signif. Code\"\n",
    "    ) %>%\n",
    "    fmt_number(\n",
    "        columns = c(term, estimate, std.error, statistic, p.value),\n",
    "        decimals = 3\n",
    "    )\n",
    "\n",
    "gtsave(lm_number_table, filename = \"number_table.png\", path = tables_path)\n"
   ]
  },
  {
   "cell_type": "markdown",
   "id": "67da187d",
   "metadata": {},
   "source": [
    "### 4. Plots\n"
   ]
  },
  {
   "cell_type": "markdown",
   "id": "4a365b6c",
   "metadata": {},
   "source": [
    "#### Clause Effects Plot\n"
   ]
  },
  {
   "cell_type": "code",
   "execution_count": 25,
   "id": "81ebc1d8",
   "metadata": {
    "vscode": {
     "languageId": "r"
    }
   },
   "outputs": [
    {
     "name": "stderr",
     "output_type": "stream",
     "text": [
      "Warning message:\n",
      "“\u001b[1m\u001b[22mRemoved 2 rows containing missing values or values outside the scale range\n",
      "(`geom_segment()`).”\n"
     ]
    }
   ],
   "source": [
    "clause_raincloud <- df_merged %>%\n",
    "    filter(segment %in% c(\"S3\", \"S4\")) %>%\n",
    "    mutate(\n",
    "        clause_type = factor(clause_type, levels = c(\"OR\", \"SR\"))\n",
    "    ) %>%\n",
    "    ggplot(\n",
    "        aes(\n",
    "            x = rt,\n",
    "            y = clause_type,\n",
    "            color = clause_type,\n",
    "            fill = clause_type\n",
    "        )\n",
    "    ) +\n",
    "    geom_jitter(\n",
    "        height = 0.2,\n",
    "        alpha = 0.25,\n",
    "        size = 0.8\n",
    "    ) +\n",
    "    stat_slab(\n",
    "        position = position_nudge(y = 0.15),\n",
    "        height = 0.4\n",
    "    ) +\n",
    "    geom_boxplot(\n",
    "        alpha = 0.5,\n",
    "        width = 0.2,\n",
    "        notch = TRUE,\n",
    "        notchwidth = 0.5,\n",
    "        outliers = FALSE,\n",
    "        staplewidth = 0.5\n",
    "    ) +\n",
    "    stat_summary(\n",
    "        fun = \"mean\",\n",
    "        shape = 4\n",
    "    ) +\n",
    "    labs(\n",
    "        title = \"RTs by Clause Type\",\n",
    "        y = element_blank(),\n",
    "        x = \"Reaction Times (log10)\"\n",
    "    ) +\n",
    "    theme(\n",
    "        legend.position = \"none\",\n",
    "        panel.grid.major.y = element_blank()\n",
    "    ) +\n",
    "    scale_fill_manual(\n",
    "        values = plot_colors\n",
    "    ) +\n",
    "    scale_color_manual(\n",
    "        values = plot_colors\n",
    "    )\n",
    "\n",
    "ggsave(filename = \"clause_raincloud.png\", path = plots_path, height = 10, width = 25, unit = \"cm\")\n"
   ]
  },
  {
   "cell_type": "markdown",
   "id": "e1903fb8",
   "metadata": {},
   "source": [
    "#### Number Effects Plot\n"
   ]
  },
  {
   "cell_type": "code",
   "execution_count": 26,
   "id": "16aea5e2",
   "metadata": {
    "vscode": {
     "languageId": "r"
    }
   },
   "outputs": [
    {
     "name": "stderr",
     "output_type": "stream",
     "text": [
      "Warning message:\n",
      "“\u001b[1m\u001b[22mRemoved 4 rows containing missing values or values outside the scale range\n",
      "(`geom_segment()`).”\n",
      "Warning message:\n",
      "“\u001b[1m\u001b[22mRemoved 4 rows containing missing values or values outside the scale range\n",
      "(`geom_segment()`).”\n"
     ]
    }
   ],
   "source": [
    "number_raincloud <- df_merged %>%\n",
    "    filter(segment %in% c(\"S3\", \"S4\")) %>%\n",
    "    mutate(\n",
    "        number = factor(number, levels = c(\"PS\", \"SP\", \"PP\", \"SS\")),\n",
    "        clause_type = case_when(\n",
    "            clause_type == \"SR\" ~ \"Subject Relatives\",\n",
    "            clause_type == \"OR\" ~ \"Object Relatives\"\n",
    "        )\n",
    "    ) %>%\n",
    "    ggplot(\n",
    "        aes(\n",
    "            x = rt,\n",
    "            y = number,\n",
    "            color = number,\n",
    "            fill = number\n",
    "        )\n",
    "    ) +\n",
    "    geom_jitter(\n",
    "        height = 0.2,\n",
    "        alpha = 0.25,\n",
    "        size = 0.8\n",
    "    ) +\n",
    "    stat_slab(\n",
    "        position = position_nudge(y = 0.15),\n",
    "        height = 0.4\n",
    "    ) +\n",
    "    geom_boxplot(\n",
    "        alpha = 0.5,\n",
    "        width = 0.2,\n",
    "        notch = TRUE,\n",
    "        notchwidth = 0.5,\n",
    "        outliers = FALSE,\n",
    "        staplewidth = 0.5\n",
    "    ) +\n",
    "    stat_summary(\n",
    "        fun = \"mean\",\n",
    "        shape = 4,\n",
    "        size = 0.1\n",
    "    ) +\n",
    "    labs(\n",
    "        title = \"RTs by Clause Type and Number\",\n",
    "        y = element_blank(),\n",
    "        x = \"Reaction Times (log10)\"\n",
    "    ) +\n",
    "    theme(\n",
    "        legend.position = \"none\",\n",
    "        panel.grid.major.y = element_blank()\n",
    "    ) +\n",
    "    scale_fill_manual(\n",
    "        values = plot_colors\n",
    "    ) +\n",
    "    scale_color_manual(\n",
    "        values = plot_colors\n",
    "    ) +\n",
    "    facet_wrap(~ factor(clause_type, levels = c(\"Subject Relatives\", \"Object Relatives\")), dir = \"h\")\n",
    "\n",
    "ggsave(filename = \"number_raincloud.png\", path = plots_path, height = 10, width = 20, unit = \"cm\")\n"
   ]
  },
  {
   "cell_type": "code",
   "execution_count": null,
   "id": "1bc399f8",
   "metadata": {
    "vscode": {
     "languageId": "r"
    }
   },
   "outputs": [
    {
     "name": "stderr",
     "output_type": "stream",
     "text": [
      "Warning message:\n",
      "“\u001b[1m\u001b[22mRemoved 2 rows containing missing values or values outside the scale range\n",
      "(`geom_segment()`).”\n",
      "Warning message:\n",
      "“\u001b[1m\u001b[22mRemoved 4 rows containing missing values or values outside the scale range\n",
      "(`geom_segment()`).”\n",
      "Warning message:\n",
      "“\u001b[1m\u001b[22mRemoved 4 rows containing missing values or values outside the scale range\n",
      "(`geom_segment()`).”\n"
     ]
    }
   ],
   "source": [
    "patched_plot <- clause_raincloud + number_raincloud +\n",
    "    plot_layout(ncol = 1, nrow = 2) +\n",
    "    plot_annotation(\n",
    "        tag_levels = \"A\",\n",
    "        tag_suffix = \")\"\n",
    "    )\n",
    "\n",
    "ggsave(plot = patched_plot, filename = \"patched_plot.png\", path = plots_path, height = 20, width = 20, unit = \"cm\")\n"
   ]
  }
 ],
 "metadata": {
  "kernelspec": {
   "display_name": "R",
   "language": "R",
   "name": "ir"
  },
  "language_info": {
   "codemirror_mode": "r",
   "file_extension": ".r",
   "mimetype": "text/x-r-source",
   "name": "R",
   "pygments_lexer": "r",
   "version": "4.4.1"
  }
 },
 "nbformat": 4,
 "nbformat_minor": 5
}
